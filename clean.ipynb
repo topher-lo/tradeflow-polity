{
 "cells": [
  {
   "cell_type": "code",
   "execution_count": null,
   "metadata": {},
   "outputs": [],
   "source": [
    "import numpy as np\n",
    "import pandas as pd"
   ]
  },
  {
   "cell_type": "code",
   "execution_count": null,
   "metadata": {},
   "outputs": [],
   "source": [
    "trade_df = pd.read_stata(\"tradeflows.dta\")\n",
    "trade_df.head()"
   ]
  },
  {
   "cell_type": "code",
   "execution_count": null,
   "metadata": {},
   "outputs": [],
   "source": [
    "trade_df = trade_df.loc[:,['year','iso_o','iso_d','gdp_o','gdp_d','flow', 'distw']]\n",
    "trade_df.head()"
   ]
  },
  {
   "cell_type": "code",
   "execution_count": null,
   "metadata": {},
   "outputs": [],
   "source": [
    "polity_scores_df = pd.read_excel(\"polity.xls\")\n",
    "polity_scores_df.head()"
   ]
  },
  {
   "cell_type": "code",
   "execution_count": null,
   "metadata": {},
   "outputs": [],
   "source": [
    "same_countries = sorted(list(set(trade_df['iso_o'].unique()) & set(polity_scores_df['scode'].unique())))\n",
    "print(same_countries)\n",
    "print(\"Polity - Same =\", set(polity_scores_df['scode'].unique()).difference(set(same_countries)))"
   ]
  },
  {
   "cell_type": "code",
   "execution_count": null,
   "metadata": {},
   "outputs": [],
   "source": [
    "polity_scores_df = polity_scores_df.loc[:,['scode', 'country', 'year', 'polity']]\n",
    "polity_scores_df.head()"
   ]
  },
  {
   "cell_type": "code",
   "execution_count": null,
   "metadata": {},
   "outputs": [],
   "source": [
    "# Remove all rows prior to 1950\n",
    "trade_df = trade_df[trade_df['year'] >= 1950]\n",
    "polity_scores_df = polity_scores_df[polity_scores_df['year'] >= 1950]\n",
    "trade_df.shape"
   ]
  },
  {
   "cell_type": "code",
   "execution_count": null,
   "metadata": {},
   "outputs": [],
   "source": [
    "# Remove all rows with iso_o not in same countries\n",
    "trade_df = trade_df[trade_df['iso_o'].isin(same_countries)]\n",
    "# Remove all rows with iso_d not in same countries\n",
    "trade_df = trade_df[trade_df['iso_d'].isin(same_countries)]\n",
    "trade_df.reset_index(drop=True, inplace=True)"
   ]
  },
  {
   "cell_type": "code",
   "execution_count": null,
   "metadata": {},
   "outputs": [],
   "source": [
    "# Create new column with trade link (iso_d + iso_d)\n",
    "trade_df[\"tradelink\"] = trade_df.apply(lambda row: row['iso_o'] + '-' + row['iso_d'], axis=1)\n",
    "trade_df.reset_index(drop=True, inplace=True)"
   ]
  },
  {
   "cell_type": "code",
   "execution_count": null,
   "metadata": {},
   "outputs": [],
   "source": [
    "trade_df.describe()"
   ]
  },
  {
   "cell_type": "code",
   "execution_count": null,
   "metadata": {},
   "outputs": [],
   "source": [
    "trade_df = pd.merge(left=trade_df, right=polity_scores_df, left_on=['year','iso_o'], right_on=['year','scode']).drop(columns=['country', 'scode'])\n",
    "trade_df = trade_df.rename(columns={'polity':'polity_o'})\n",
    "trade_df = pd.merge(left=trade_df, right=polity_scores_df, left_on=['year','iso_d'], right_on=['year','scode']).drop(columns=['country', 'scode'])\n",
    "trade_df = trade_df.rename(columns={'polity':'polity_d'})\n",
    "trade_df.head()"
   ]
  },
  {
   "cell_type": "code",
   "execution_count": null,
   "metadata": {},
   "outputs": [],
   "source": [
    "# Append difference in scores column to trade_df\n",
    "trade_df['polity_dist'] = abs(trade_df['polity_o'] - trade_df['polity_d'])\n",
    "trade_df.head(20)"
   ]
  },
  {
   "cell_type": "code",
   "execution_count": null,
   "metadata": {},
   "outputs": [],
   "source": [
    "import math"
   ]
  },
  {
   "cell_type": "code",
   "execution_count": null,
   "metadata": {},
   "outputs": [],
   "source": [
    "trade_df['log_gdp_o'] = np.log(trade_df.gdp_o)\n",
    "trade_df['log_gdp_d'] = np.log(trade_df.gdp_d)\n",
    "trade_df['log_flow'] = np.log(trade_df.flow)\n",
    "trade_df['log_flow'] = trade_df['log_flow'].apply(lambda x: np.log(1+x))\n",
    "trade_df['log_distw'] = trade_df['distw'].apply(lambda x: np.log(1+x))\n",
    "trade_df['log_polity_dist'] = trade_df['polity_dist'].apply(lambda x: np.log(int(1+x)))\n",
    "trade_df.head(10)"
   ]
  },
  {
   "cell_type": "code",
   "execution_count": null,
   "metadata": {},
   "outputs": [],
   "source": [
    "trade_df = trade_df.set_index(['tradelink', 'year'])"
   ]
  },
  {
   "cell_type": "code",
   "execution_count": null,
   "metadata": {},
   "outputs": [],
   "source": [
    "trade_df = trade_df.dropna()"
   ]
  },
  {
   "cell_type": "code",
   "execution_count": null,
   "metadata": {},
   "outputs": [],
   "source": [
    "trade_df.to_csv(\"trade_polity.csv\")"
   ]
  }
 ],
 "metadata": {
  "kernelspec": {
   "display_name": "Python [conda env:supas]",
   "language": "python",
   "name": "conda-env-supas-py"
  },
  "language_info": {
   "codemirror_mode": {
    "name": "ipython",
    "version": 3
   },
   "file_extension": ".py",
   "mimetype": "text/x-python",
   "name": "python",
   "nbconvert_exporter": "python",
   "pygments_lexer": "ipython3",
   "version": "3.7.3"
  }
 },
 "nbformat": 4,
 "nbformat_minor": 2
}
