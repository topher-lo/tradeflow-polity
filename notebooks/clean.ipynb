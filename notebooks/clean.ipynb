{
 "cells": [
  {
   "cell_type": "markdown",
   "metadata": {},
   "source": [
    "# Prepare and clean data for analysis\n",
    "---\n",
    "### Data sources:\n",
    "- Head et al (2010) \"The Erosion of Trade Linkages After Independence\" (https://drive.google.com/file/d/15TVAP7PdBV4qatGGOslA-gdGl8AK3EtN/view)\n",
    "- PolityV Annual Time Series 1946-2018 (https://www.systemicpeace.org/inscrdata.html)"
   ]
  },
  {
   "cell_type": "code",
   "execution_count": null,
   "metadata": {},
   "outputs": [],
   "source": [
    "import io\n",
    "import numpy as np\n",
    "import pandas as pd\n",
    "import tempfile\n",
    "import requests\n",
    "import shutil\n",
    "import xlrd\n",
    "import zipfile"
   ]
  },
  {
   "cell_type": "markdown",
   "metadata": {},
   "source": [
    "### 1. Trade flows\n",
    "---"
   ]
  },
  {
   "cell_type": "code",
   "execution_count": null,
   "metadata": {},
   "outputs": [],
   "source": [
    "tmpdir = tempfile.mkdtemp()\n",
    "r = requests.get(\"https://drive.google.com/u/0/uc?id=15TVAP7PdBV4qatGGOslA-gdGl8AK3EtN&export=download\")\n",
    "z = zipfile.ZipFile(io.BytesIO(r.content))\n",
    "z.extractall(tmpdir)\n",
    "trade_df = pd.read_stata(f\"{tmpdir}/col_regfile09.dta\")\n",
    "shutil.rmtree(tmpdir)"
   ]
  },
  {
   "cell_type": "code",
   "execution_count": null,
   "metadata": {},
   "outputs": [],
   "source": [
    "# Only keep years >= 1990\n",
    "trade_df = trade_df.query('year >= 1990').reset_index(drop=True)\n",
    "trade_df"
   ]
  },
  {
   "cell_type": "code",
   "execution_count": null,
   "metadata": {},
   "outputs": [],
   "source": [
    "trade_df.columns"
   ]
  },
  {
   "cell_type": "markdown",
   "metadata": {},
   "source": [
    "### 2. Polity Scores\n",
    "---"
   ]
  },
  {
   "cell_type": "code",
   "execution_count": null,
   "metadata": {},
   "outputs": [],
   "source": [
    "polity_scores_df = pd.read_excel(\"http://www.systemicpeace.org/inscr/p5v2018.xls\")\n",
    "\n",
    "# Only keep years >= 1990\n",
    "\n",
    "polity_scores_df = polity_scores_df.query('year >= 1990').reset_index(drop=True)\n",
    "polity_scores_df"
   ]
  },
  {
   "cell_type": "code",
   "execution_count": null,
   "metadata": {},
   "outputs": [],
   "source": [
    "polity_scores_df.columns"
   ]
  },
  {
   "cell_type": "code",
   "execution_count": null,
   "metadata": {},
   "outputs": [],
   "source": [
    "# Only keep revised polity score, country, and year\n",
    "polity_scores_df = polity_scores_df[['country', 'year', 'polity2']]"
   ]
  },
  {
   "cell_type": "markdown",
   "metadata": {},
   "source": [
    "### 3. ISO country codes\n",
    "---"
   ]
  },
  {
   "cell_type": "code",
   "execution_count": null,
   "metadata": {},
   "outputs": [],
   "source": [
    "# Get country, ISO3166-1-Alpha-3 dataset\n",
    "\n",
    "iso_country_df = pd.read_csv(\"https://raw.githubusercontent.com/datasets/country-codes/master/data/country-codes.csv\")\n",
    "iso_country_df = iso_country_df[['CLDR display name', 'ISO3166-1-Alpha-3']]\n",
    "iso_country_df.columns = ['country', 'iso']\n",
    "\n",
    "# Rename countries to match PolityIV country names\n",
    "\n",
    "iso_country_df = iso_country_df.replace('UK', 'United Kingdom')\n",
    "iso_country_df = iso_country_df.replace('US', 'United States')\n",
    "iso_country_df = iso_country_df.replace('South Korea', 'Korea South')\n",
    "iso_country_df = iso_country_df.replace('North Korea', 'Korea North')\n",
    "iso_country_df = iso_country_df.replace('Czechia', 'Czech Republic')\n",
    "iso_country_df = iso_country_df.replace('Slovakia', 'Slovak Republic')\n",
    "iso_country_df = iso_country_df.replace('North Macedonia', 'Yugoslavia')\n",
    "iso_country_df = iso_country_df.replace('United Arab Emirates', 'UAE')\n",
    "iso_country_df = iso_country_df.replace('Myanmar', 'Myanmar (Burma)')\n",
    "\n",
    "# Replace Romanian ISO code\n",
    "\n",
    "iso_country_df = iso_country_df.replace('ROU', 'ROM')"
   ]
  },
  {
   "cell_type": "markdown",
   "metadata": {},
   "source": [
    "# Data Preparation\n",
    "---"
   ]
  },
  {
   "cell_type": "code",
   "execution_count": null,
   "metadata": {},
   "outputs": [],
   "source": [
    "# Merge trade_df and iso_country_df on iso_o / iso_d\n",
    "\n",
    "trade_df = pd.merge(trade_df, iso_country_df, how='inner', left_on='iso_o', right_on='iso')\n",
    "trade_df = pd.merge(trade_df, iso_country_df, how='inner', left_on='iso_d', right_on='iso')\n",
    "trade_df = trade_df.rename(columns={'country_x': 'country_o', 'country_y': 'country_d'})\n",
    "trade_df = trade_df.drop(columns=['iso_x', 'iso_y'])\n",
    "trade_df"
   ]
  },
  {
   "cell_type": "code",
   "execution_count": null,
   "metadata": {},
   "outputs": [],
   "source": [
    "# Create new column with trade link (iso_d + iso_d)\n",
    "trade_df[\"tradelink\"] = trade_df.apply(lambda row: row['iso_o'] + '-' + row['iso_d'], axis=1)\n",
    "trade_df"
   ]
  },
  {
   "cell_type": "code",
   "execution_count": null,
   "metadata": {},
   "outputs": [],
   "source": [
    "trade_df = pd.merge(left=trade_df, right=polity_scores_df, left_on=['year','country_o'], right_on=['year','country'])\n",
    "trade_df = pd.merge(left=trade_df, right=polity_scores_df, left_on=['year','country_d'], right_on=['year','country'])\n",
    "trade_df = trade_df.rename(columns={'polity2_x':'polity_o', 'polity2_y':'polity_d'})\n",
    "trade_df"
   ]
  },
  {
   "cell_type": "code",
   "execution_count": null,
   "metadata": {},
   "outputs": [],
   "source": [
    "trade_df = trade_df.drop(columns=['country_x', 'country_y'])"
   ]
  },
  {
   "cell_type": "code",
   "execution_count": null,
   "metadata": {},
   "outputs": [],
   "source": [
    "same_countries = sorted(list(set(trade_df['country_o'].unique()) & set(polity_scores_df['country'].unique())))\n",
    "missing = pd.DataFrame(set(polity_scores_df['country'].unique()).difference(set(same_countries)))\n",
    "missing.columns = ['Missing Countries']\n",
    "missing"
   ]
  },
  {
   "cell_type": "code",
   "execution_count": null,
   "metadata": {},
   "outputs": [],
   "source": [
    "# Append difference in scores column to trade_df\n",
    "trade_df['polity_dist'] = abs(trade_df['polity_o'] - trade_df['polity_d'])\n",
    "trade_df"
   ]
  },
  {
   "cell_type": "code",
   "execution_count": null,
   "metadata": {},
   "outputs": [],
   "source": [
    "trade_df.to_csv(\"../data/trade-polity.csv\")"
   ]
  }
 ],
 "metadata": {
  "kernelspec": {
   "display_name": "Python 3",
   "language": "python",
   "name": "python3"
  },
  "language_info": {
   "codemirror_mode": {
    "name": "ipython",
    "version": 3
   },
   "file_extension": ".py",
   "mimetype": "text/x-python",
   "name": "python",
   "nbconvert_exporter": "python",
   "pygments_lexer": "ipython3",
   "version": "3.8.5"
  }
 },
 "nbformat": 4,
 "nbformat_minor": 2
}
