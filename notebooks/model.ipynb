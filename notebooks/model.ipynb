{
 "cells": [
  {
   "cell_type": "code",
   "execution_count": 1,
   "metadata": {},
   "outputs": [],
   "source": [
    "import pandas as pd\n",
    "import numpy as np\n",
    "import random\n",
    "\n",
    "import statsmodels.api as sm\n",
    "from linearmodels.iv import IV2SLS\n",
    "from linearmodels.iv import IVGMM\n",
    "from linearmodels import PanelOLS\n",
    "\n",
    "import matplotlib.pyplot as plt\n",
    "import seaborn as sns\n",
    "\n",
    "from linearmodels.datasets import card"
   ]
  },
  {
   "cell_type": "code",
   "execution_count": null,
   "metadata": {},
   "outputs": [],
   "source": [
    "sns.set(rc={'figure.figsize':(18,15)})\n",
    "sns.set_style(\"white\")"
   ]
  },
  {
   "cell_type": "markdown",
   "metadata": {},
   "source": [
    "# Do political differences between countries affect their trade flows?\n",
    "---"
   ]
  },
  {
   "cell_type": "markdown",
   "metadata": {},
   "source": [
    "## 1. Introduction\n",
    "- Let's test whether political differences (as measured by Polity scores) affect bilateral tradeflows between countries from 1960-2006.\n",
    "- Unit of interest is the annual trade relationship between two countries (e.g. NZL-AUS).\n",
    "- I will first estimate the gravity model of trade and a modified gravity model by including political difference as a explanatory variable.\n",
    "- I will then look at **three different identification strategies to estimate the effect of political differences on trade flows**:\n",
    "    - *Fixed Effects*\n",
    "    - *Arellano-Bond Instrumental Variables*\n",
    "    - *Anderson-Hsiao Instrumental Variables*\n",
    "- Physical distance between countries are included controls."
   ]
  },
  {
   "cell_type": "markdown",
   "metadata": {},
   "source": [
    "## 2. Summary Statistics\n",
    "---"
   ]
  },
  {
   "cell_type": "code",
   "execution_count": null,
   "metadata": {},
   "outputs": [],
   "source": [
    "# Filter tradelinks with highest average trade volume over time\n",
    "\n",
    "links = data.groupby('tradelink')['flow'].agg('mean').nlargest(n=15).index\n",
    "largest_tradelinks = data[data['tradelink'].isin(links)]"
   ]
  },
  {
   "cell_type": "markdown",
   "metadata": {},
   "source": [
    "### 2.1 Trade flows between 1990-2006 for top 10 tradelinks with highest trade flows"
   ]
  },
  {
   "cell_type": "code",
   "execution_count": null,
   "metadata": {},
   "outputs": [],
   "source": [
    "# Tradeflows across top 10 tradelinks with highest average total trade value over time\n",
    "\n",
    "ax = sns.lineplot(x='year',y='total_gdp', hue='tradelink', data=largest_tradelinks.query('year >= 1990'), palette='Set2')\n",
    "ax.set(xlabel='Year', ylabel='Trade Flow (current US$ million)')"
   ]
  },
  {
   "cell_type": "markdown",
   "metadata": {},
   "source": [
    "### 2.2 Jointplot of Polity Distance and Trade Flows (current USD million)"
   ]
  },
  {
   "cell_type": "code",
   "execution_count": null,
   "metadata": {},
   "outputs": [],
   "source": [
    "# Joint plot of polity distance and tradeflow\n",
    "\n",
    "grid = sns.jointplot(x='polity_dist', y='flow', kind='reg', color='#053259', x_jitter=0.5, y_jitter=100000, data=largest_tradelinks)\n",
    "grid.fig.set_figwidth(12)\n",
    "grid.fig.set_figheight(8)\n",
    "grid.set_axis_labels(xlabel='Polity Distance', ylabel='Trade Flow (current US$ million)')"
   ]
  },
  {
   "cell_type": "code",
   "execution_count": null,
   "metadata": {},
   "outputs": [],
   "source": [
    "# Change in polity distance over time\n",
    "\n",
    "data['wto'] = data['gatt_o'] + data['gatt_d']\n",
    "ax = sns.lineplot(x='year', y='polity_dist', hue='wto', palette='Set2', data=data)\n",
    "ax.legend(['Trade between non-WTO countries', 'Trade between one non-WTO and one WTO country', 'Trade between WTO-countries'])\n",
    "ax.set(xlabel='Year', ylabel='Polity')"
   ]
  },
  {
   "cell_type": "code",
   "execution_count": null,
   "metadata": {},
   "outputs": [],
   "source": [
    "data.groupby('year')['wto'].value_counts()"
   ]
  },
  {
   "cell_type": "code",
   "execution_count": null,
   "metadata": {},
   "outputs": [],
   "source": [
    "# Relationship between distance and flow\n",
    "\n",
    "grid = sns.jointplot(x='distw',y='flow', kind='reg',color='#053259', data=largest_tradelinks)\n",
    "grid.fig.set_figwidth(12)\n",
    "grid.fig.set_figheight(8)\n",
    "grid.set_axis_labels(xlabel='Distance (km)', ylabel='Trade Flow (current US$ million)')"
   ]
  },
  {
   "cell_type": "markdown",
   "metadata": {},
   "source": [
    "## 3. Results\n",
    "---"
   ]
  },
  {
   "cell_type": "code",
   "execution_count": null,
   "metadata": {},
   "outputs": [],
   "source": [
    "# Set entity and time indexes\n",
    "polity_data = data.set_index(['tradelink', 'year']).dropna(subset=['total_gdp', 'polity_dist'])\n",
    "\n",
    "# Include a year column\n",
    "polity_data['year'] = polity_data.index.get_level_values('year').astype('str')\n",
    "\n",
    "# Include a tradelink column\n",
    "polity_data['tradelink'] = polity_data.index.get_level_values('tradelink').astype('str')"
   ]
  },
  {
   "cell_type": "code",
   "execution_count": null,
   "metadata": {},
   "outputs": [],
   "source": [
    "# Write function that returns original dataframe with additional lags for a specified col\n",
    "# Patsy in Python does not have a lag operator to use in formulas\n",
    "\n",
    "def get_lags(data, col, lag, level=0):\n",
    "    for i in range(lag):\n",
    "        data[f'{col}_{i+1}'] = data.groupby(level=level)[col].shift(i+1)\n",
    "    return data"
   ]
  },
  {
   "cell_type": "code",
   "execution_count": null,
   "metadata": {},
   "outputs": [],
   "source": [
    "# Create 30 lags of total_gdp\n",
    "n_lags = 30\n",
    "get_lags(polity_data, 'total_gdp', n_lags)\n",
    " \n",
    "# Create 30 lags of polity_dist\n",
    "get_lags(polity_data, 'polity_dist', n_lags)\n",
    "\n",
    "# Set gdp_lags patsy formula\n",
    "n_gdp_lags = 5\n",
    "gdp_lags = '+'.join([f'total_gdp_{i}' for i in range(1, n_gdp_lags)])"
   ]
  },
  {
   "cell_type": "markdown",
   "metadata": {},
   "source": [
    "### 3.1 Fixed Effects\n",
    "---"
   ]
  },
  {
   "cell_type": "code",
   "execution_count": null,
   "metadata": {},
   "outputs": [],
   "source": [
    "# Two-way fixed effects\n",
    "# Note: we removed the distw covariate because it is captured in EntityEffects\n",
    "\n",
    "formula_fe = f'flow ~ polity_dist + EntityEffects + TimeEffects'\n",
    "mod_fe = PanelOLS.from_formula(formula_fe, data=polity_data)\n",
    "res_fe = mod_fe.fit(cov_type=\"clustered\", cluster_entity=True)\n",
    "res_fe.summary"
   ]
  },
  {
   "cell_type": "markdown",
   "metadata": {},
   "source": [
    "### 3.2 Anderson-Hsiao\n",
    "---"
   ]
  },
  {
   "cell_type": "code",
   "execution_count": null,
   "metadata": {},
   "outputs": [],
   "source": [
    "# Anderson-Hsiao\n",
    "# Following Rachel Meager's code, let's use 2-step efficient GMM to fit the A.H. model\n",
    "\n",
    "formula_ah = f'flow ~ {gdp_lags} + [polity_dist ~ polity_dist_1] + distw'\n",
    "mod_ah = IVGMM.from_formula(formula_ah, data=polity_data)\n",
    "res_ah = mod_ah.fit()\n",
    "res_ah.summary"
   ]
  },
  {
   "cell_type": "markdown",
   "metadata": {},
   "source": [
    "### 3.3 Arellano-Bond\n",
    "---"
   ]
  },
  {
   "cell_type": "code",
   "execution_count": null,
   "metadata": {
    "scrolled": false
   },
   "outputs": [],
   "source": [
    "# Arellano-Bond\n",
    "# Following Rachel Meager's code, let's use 2-step efficient GMM to fit the A.B. model\n",
    "arellano_results = []\n",
    "for i in range(2, n_lags + 1):\n",
    "    polity_lags = '+'.join([f'polity_dist_{j}' for j in range(1, i+1)])\n",
    "    formula_ab = f'flow ~ {gdp_lags} + [polity_dist ~ {polity_lags}] + distw'\n",
    "    mod_ab = IVGMM.from_formula(formula_ab, data=polity_data)\n",
    "    res_ab = mod_ab.fit()\n",
    "    arellano_results.append(res_ab)"
   ]
  },
  {
   "cell_type": "markdown",
   "metadata": {},
   "source": [
    "## 4. Comments\n",
    "---"
   ]
  }
 ],
 "metadata": {
  "kernelspec": {
   "display_name": "Python 3",
   "language": "python",
   "name": "python3"
  },
  "language_info": {
   "codemirror_mode": {
    "name": "ipython",
    "version": 3
   },
   "file_extension": ".py",
   "mimetype": "text/x-python",
   "name": "python",
   "nbconvert_exporter": "python",
   "pygments_lexer": "ipython3",
   "version": "3.8.3"
  }
 },
 "nbformat": 4,
 "nbformat_minor": 4
}
