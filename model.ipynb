{
 "cells": [
  {
   "cell_type": "markdown",
   "metadata": {},
   "source": [
    "## Basic Specification:\n",
    "$$ y_{ijt} = \\alpha + \\beta_1 GDP_i + \\beta_2 GDP_j + \\beta_3 Dist_{ij} + \\theta_t \\epsilon_{ijt} $$\n",
    "\n",
    "## Modified Specification:\n",
    "$$ y_{ijt} = \\alpha + \\beta_1 GDP_i + \\beta_2 GDP_j + \\beta_3 Dist_{ij} + \\beta_4 PolityDist_{ijt} + \\theta_t + \\epsilon_{ijt} $$"
   ]
  },
  {
   "cell_type": "code",
   "execution_count": null,
   "metadata": {},
   "outputs": [],
   "source": [
    "from linearmodels import PanelOLS"
   ]
  },
  {
   "cell_type": "code",
   "execution_count": null,
   "metadata": {},
   "outputs": [],
   "source": [
    "model_basic = PanelOLS(trade_df.log_flow, trade_df[['log_gdp_o', 'log_gdp_d', 'log_distw']], time_effects=True)\n",
    "result_basic = model_basic.fit(cov_type='clustered', cluster_entity=True)\n",
    "result_basic.summary"
   ]
  },
  {
   "cell_type": "code",
   "execution_count": null,
   "metadata": {},
   "outputs": [],
   "source": [
    "model_modified = PanelOLS(trade_df.log_flow, trade_df[['log_gdp_o', 'log_gdp_d', 'log_distw', 'log_polity_dist']], time_effects=True)\n",
    "result_modified = model_modified.fit(cov_type='clustered', cluster_entity=True)\n",
    "result_modified.summary"
   ]
  },
  {
   "cell_type": "code",
   "execution_count": null,
   "metadata": {},
   "outputs": [],
   "source": [
    "FORMER_SOVIET_COUNTRIES = {\n",
    "    \"Estonia\": \"EST\",\n",
    "    \"Latvia\": \"LVA\",\n",
    "    \"Lithuania\": \"LTU\",\n",
    "    \"Kazakhstan\": \"KAZ\",\n",
    "    \"Kyrgyzstan\": \"KGZ\",\n",
    "    \"Tajikistan\": \"TJK\",\n",
    "    \"Turkmenistan\": \"TKM\",\n",
    "    \"Uzbekistan\": \"UZB\",\n",
    "    \"Belarus\": \"BLR\",\n",
    "    \"Moldova\": \"MDA\",\n",
    "    \"Ukraine\": \"UKR\",\n",
    "    \"Russia\": \"RUS\",\n",
    "    \"Armenia\": \"ARM\",\n",
    "    \"Azerbaijan\": \"AZE\",\n",
    "    \"Georgia\": \"GEO\"\n",
    "}\n",
    "post_soviet_df = trade_df[trade_df['iso_o'].isin(list(FORMER_SOVIET_COUNTRIES.values()))]"
   ]
  }
 ],
 "metadata": {
  "kernelspec": {
   "display_name": "Python [conda env:uk-regional-stats]",
   "language": "python",
   "name": "conda-env-uk-regional-stats-py"
  },
  "language_info": {
   "codemirror_mode": {
    "name": "ipython",
    "version": 3
   },
   "file_extension": ".py",
   "mimetype": "text/x-python",
   "name": "python",
   "nbconvert_exporter": "python",
   "pygments_lexer": "ipython3",
   "version": "3.7.3"
  }
 },
 "nbformat": 4,
 "nbformat_minor": 2
}
